{
 "cells": [
  {
   "cell_type": "code",
   "execution_count": null,
   "metadata": {},
   "outputs": [],
   "source": [
    "import sys\n",
    "print(sys.version)\n",
    "# Useful links:\n",
    "# https://stackoverflow.com/a/42585283/4884761 - how to change notebook environment for conda \n",
    "# https://stackoverflow.com/questions/48391075/is-it-possible-to-visualize-a-tensorflow-graph-without-a-training-op \n",
    "# https://github.com/kindlychung/demo-load-pb-tensorflow/blob/master/01-load_and_save_graph_to_tensorboard.py\n",
    "# https://medium.com/@daj/how-to-inspect-a-pre-trained-tensorflow-model-5fd2ee79ced0\n",
    "\n",
    "# I've got the error \"IOPub data rate exceeded.\" on my notebook. To prevent it, run as suggested in \n",
    "# https://stackoverflow.com/questions/43288550/iopub-data-rate-exceeded-when-viewing-image-in-jupyter-notebook:\n",
    "# jupyter notebook --NotebookApp.iopub_data_rate_limit=1.0e10\n"
   ]
  },
  {
   "cell_type": "code",
   "execution_count": 1,
   "metadata": {},
   "outputs": [
    {
     "name": "stdout",
     "output_type": "stream",
     "text": [
      "load graph\n",
      "graph saved\n"
     ]
    }
   ],
   "source": [
    "import tensorflow as tf\n",
    "import sys\n",
    "from tensorflow.python.platform import gfile\n",
    "\n",
    "from tensorflow.core.protobuf import saved_model_pb2\n",
    "from tensorflow.python.util import compat\n",
    "modelpath = \"../TFSharpSamples/InceptionSample/bin/Debug/netcoreapp2.1/work/tensorflow_inception_graph.pb\"\n",
    "with tf.Session() as persisted_sess:\n",
    "  print(\"load graph\")\n",
    "  with gfile.FastGFile(modelpath,'rb') as f:\n",
    "    graph_def = tf.GraphDef()\n",
    "    graph_def.ParseFromString(f.read())\n",
    "    persisted_sess.graph.as_default()\n",
    "    tf.import_graph_def(graph_def, name='')\n",
    "    writer = tf.summary.FileWriter(\"./tf_summary\", graph=persisted_sess.graph)\n",
    "    # Print all operation names\n",
    "    #for op in persisted_sess.graph.get_operations():\n",
    "    #  print(op)\n",
    "  print(\"graph saved\")\n",
    "# next: do the following in bash:\n",
    "# tensorboard --logdir ./tf_summary/"
   ]
  },
  {
   "cell_type": "code",
   "execution_count": null,
   "metadata": {},
   "outputs": [],
   "source": []
  }
 ],
 "metadata": {
  "kernelspec": {
   "display_name": "Python [default]",
   "language": "python",
   "name": "python3"
  },
  "language_info": {
   "codemirror_mode": {
    "name": "ipython",
    "version": 3
   },
   "file_extension": ".py",
   "mimetype": "text/x-python",
   "name": "python",
   "nbconvert_exporter": "python",
   "pygments_lexer": "ipython3",
   "version": "3.6.6"
  }
 },
 "nbformat": 4,
 "nbformat_minor": 2
}
